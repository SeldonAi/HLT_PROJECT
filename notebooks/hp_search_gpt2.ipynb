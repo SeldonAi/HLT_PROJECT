{
 "cells": [
  {
   "cell_type": "code",
   "execution_count": 1,
   "metadata": {},
   "outputs": [
    {
     "name": "stderr",
     "output_type": "stream",
     "text": [
      "/home/hlt/HLT_PROJECT/.env/lib/python3.11/site-packages/tqdm/auto.py:21: TqdmWarning: IProgress not found. Please update jupyter and ipywidgets. See https://ipywidgets.readthedocs.io/en/stable/user_install.html\n",
      "  from .autonotebook import tqdm as notebook_tqdm\n"
     ]
    }
   ],
   "source": [
    "import pandas as pd\n",
    "import mapply\n",
    "mapply.init(progressbar=True, max_chunks_per_worker=100)"
   ]
  },
  {
   "cell_type": "code",
   "execution_count": 2,
   "metadata": {},
   "outputs": [],
   "source": [
    "clean = pd.read_feather('../data/lyrics_cleaned.feather')\n",
    "clean = clean[clean['tag'] != 'misc']\n",
    "# clean = clean[clean['tag'] != 'pop']"
   ]
  },
  {
   "cell_type": "code",
   "execution_count": 16,
   "metadata": {},
   "outputs": [],
   "source": [
    "from sklearn.model_selection import train_test_split\n",
    "\n",
    "SUBSAMPLE = 0.001\n",
    "\n",
    "ds = clean.drop(['tokens', 'id'], axis=1)\n",
    "\n",
    "TRAIN_P, VALID_P, TEST_P = 0.6, 0.2, 0.2\n",
    "LABEL = 'tag'\n",
    "\n",
    "ds = ds.rename(columns={LABEL: 'label'})\n",
    "LABEL = 'label'\n",
    "\n",
    "ds[LABEL], labels_map = pd.factorize(ds[LABEL])\n",
    "\n",
    "assert TRAIN_P + VALID_P + TEST_P == 1\n",
    "\n",
    "dev_ds, test_ds = train_test_split(ds, test_size=TEST_P, random_state=0, stratify=ds[LABEL])\n",
    "train_ds, valid_ds = train_test_split(dev_ds, test_size=(VALID_P / (TRAIN_P + VALID_P)), random_state=0, stratify=dev_ds[LABEL])\n",
    "  \n",
    "if SUBSAMPLE:\n",
    "  train_ds, _ = train_test_split(train_ds, train_size=SUBSAMPLE, random_state=0, stratify=train_ds[LABEL])\n",
    "  valid_ds, _ = train_test_split(valid_ds, train_size=SUBSAMPLE, random_state=0, stratify=valid_ds[LABEL])\n",
    "  test_ds, _ = train_test_split(test_ds, train_size=SUBSAMPLE, random_state=0, stratify=test_ds[LABEL])"
   ]
  },
  {
   "cell_type": "code",
   "execution_count": 4,
   "metadata": {},
   "outputs": [
    {
     "data": {
      "text/plain": [
       "DatasetDict({\n",
       "    train: Dataset({\n",
       "        features: ['title', 'artist', 'label', 'lyrics_clean'],\n",
       "        num_rows: 42\n",
       "    })\n",
       "    valid: Dataset({\n",
       "        features: ['title', 'artist', 'label', 'lyrics_clean'],\n",
       "        num_rows: 14\n",
       "    })\n",
       "    test: Dataset({\n",
       "        features: ['title', 'artist', 'label', 'lyrics_clean'],\n",
       "        num_rows: 14\n",
       "    })\n",
       "})"
      ]
     },
     "execution_count": 4,
     "metadata": {},
     "output_type": "execute_result"
    }
   ],
   "source": [
    "from datasets import Dataset, DatasetDict\n",
    "\n",
    "dataset_dict = {}\n",
    "dataset_dict['train'] = Dataset.from_pandas(train_ds, split = 'Train').remove_columns(['__index_level_0__'])\n",
    "dataset_dict['valid'] = Dataset.from_pandas(valid_ds, split = 'Validation').remove_columns(['__index_level_0__'])\n",
    "dataset_dict['test'] = Dataset.from_pandas(test_ds, split = 'Test').remove_columns(['__index_level_0__'])\n",
    "\n",
    "datasets = DatasetDict(dataset_dict)\n",
    "datasets\n"
   ]
  },
  {
   "cell_type": "code",
   "execution_count": 5,
   "metadata": {},
   "outputs": [
    {
     "name": "stderr",
     "output_type": "stream",
     "text": [
      "Map: 100%|██████████| 42/42 [00:00<00:00, 1506.11 examples/s]\n",
      "Map: 100%|██████████| 14/14 [00:00<00:00, 1414.06 examples/s]\n",
      "Map: 100%|██████████| 14/14 [00:00<00:00, 1589.48 examples/s]\n"
     ]
    }
   ],
   "source": [
    "from transformers import AutoTokenizer, DataCollatorWithPadding\n",
    "from datetime import datetime\n",
    "\n",
    "# MODEL = \"FacebookAI/roberta-base\"\n",
    "# MODEL = \"google-bert/bert-base-uncased\"\n",
    "MODEL = \"distilbert/distilgpt2\"\n",
    "MODEL_DIR = '../NAS/' + str(datetime.now()) + '/' + MODEL.split('/')[-1]\n",
    "tokenizer = AutoTokenizer.from_pretrained(MODEL)\n",
    "tokenizer.pad_token = tokenizer.eos_token\n",
    "tokenizer.pad_token_id = tokenizer.eos_token_id\n",
    "\n",
    "\n",
    "def tokenize(row):\n",
    "  return tokenizer(row['lyrics_clean'], truncation=True)\n",
    "\n",
    "data_collator = DataCollatorWithPadding(tokenizer=tokenizer)\n",
    "tokenized_datasets = datasets.map(tokenize, batched=True)"
   ]
  },
  {
   "cell_type": "code",
   "execution_count": 6,
   "metadata": {},
   "outputs": [
    {
     "name": "stderr",
     "output_type": "stream",
     "text": [
      "Some weights of GPT2ForSequenceClassification were not initialized from the model checkpoint at distilbert/distilgpt2 and are newly initialized: ['score.weight']\n",
      "You should probably TRAIN this model on a down-stream task to be able to use it for predictions and inference.\n"
     ]
    }
   ],
   "source": [
    "from transformers import TrainingArguments, AutoModelForSequenceClassification\n",
    "\n",
    "training_args = TrainingArguments(MODEL_DIR, save_strategy='no')\n",
    "\n",
    "model = AutoModelForSequenceClassification.from_pretrained(MODEL, num_labels = labels_map.shape[0])"
   ]
  },
  {
   "cell_type": "code",
   "execution_count": 7,
   "metadata": {},
   "outputs": [],
   "source": []
  },
  {
   "cell_type": "code",
   "execution_count": 8,
   "metadata": {},
   "outputs": [],
   "source": [
    "def optuna_hp_space(trial):\n",
    "  return {        \n",
    "    \"learning_rate\": trial.suggest_float(\"learning_rate\", 1e-6, 1e-4, log=True),\n",
    "    \"per_device_train_batch_size\": trial.suggest_categorical(\"per_device_train_batch_size\", [4]),  \n",
    "  }"
   ]
  },
  {
   "cell_type": "code",
   "execution_count": 9,
   "metadata": {},
   "outputs": [
    {
     "name": "stderr",
     "output_type": "stream",
     "text": [
      "Some weights of GPT2ForSequenceClassification were not initialized from the model checkpoint at distilbert/distilgpt2 and are newly initialized: ['score.weight']\n",
      "You should probably TRAIN this model on a down-stream task to be able to use it for predictions and inference.\n"
     ]
    }
   ],
   "source": [
    "import numpy as np\n",
    "\n",
    "class AlmostAccuracy:\n",
    "  def __call__(self, eval_pred):\n",
    "    predictions, labels = eval_pred\n",
    "    preds = np.argmax(predictions, axis=1)\n",
    "    true = np.abs(preds - labels) == 0\n",
    "    return {\"accuracy\": true.astype(np.float32).mean().item()}\n",
    "\n",
    "from transformers import Trainer\n",
    "\n",
    "def model_init(_):\n",
    "    model = AutoModelForSequenceClassification.from_pretrained(MODEL, num_labels = labels_map.shape[0])\n",
    "    TRAIN_ONLY_HEAD = False\n",
    "\n",
    "    if TRAIN_ONLY_HEAD:\n",
    "      for name, param in model.named_parameters():\n",
    "        if 'classifier' not in name:\n",
    "          param.requires_grad = False\n",
    "        else:\n",
    "          param.requires_grad = True\n",
    "        model.config.pad_token_id = model.config.eos_token_id\n",
    "    return model\n",
    "\n",
    "trainer = Trainer(\n",
    "  args=training_args,\n",
    "  train_dataset=tokenized_datasets['train'],\n",
    "  eval_dataset=tokenized_datasets['valid'],\n",
    "  data_collator=data_collator,\n",
    "  tokenizer=tokenizer,\n",
    "  model_init=model_init,\n",
    "  compute_metrics=AlmostAccuracy()\n",
    ")"
   ]
  },
  {
   "cell_type": "code",
   "execution_count": 11,
   "metadata": {},
   "outputs": [
    {
     "name": "stderr",
     "output_type": "stream",
     "text": [
      "[I 2024-05-30 16:01:42,658] A new study created in RDB with name: GPT2\n"
     ]
    },
    {
     "data": {
      "text/html": [
       "\n",
       "    <div>\n",
       "      \n",
       "      <progress value='33' max='33' style='width:300px; height:20px; vertical-align: middle;'></progress>\n",
       "      [33/33 00:09, Epoch 3/3]\n",
       "    </div>\n",
       "    <table border=\"1\" class=\"dataframe\">\n",
       "  <thead>\n",
       " <tr style=\"text-align: left;\">\n",
       "      <th>Step</th>\n",
       "      <th>Training Loss</th>\n",
       "    </tr>\n",
       "  </thead>\n",
       "  <tbody>\n",
       "  </tbody>\n",
       "</table><p>"
      ],
      "text/plain": [
       "<IPython.core.display.HTML object>"
      ]
     },
     "metadata": {},
     "output_type": "display_data"
    },
    {
     "data": {
      "text/html": [
       "\n",
       "    <div>\n",
       "      \n",
       "      <progress value='2' max='2' style='width:300px; height:20px; vertical-align: middle;'></progress>\n",
       "      [2/2 00:00]\n",
       "    </div>\n",
       "    "
      ],
      "text/plain": [
       "<IPython.core.display.HTML object>"
      ]
     },
     "metadata": {},
     "output_type": "display_data"
    },
    {
     "name": "stderr",
     "output_type": "stream",
     "text": [
      "[I 2024-05-30 16:01:53,801] Trial 0 finished with values: [2.332435369491577, 0.3571428656578064] and parameters: {'learning_rate': 4.35235178588917e-06, 'per_device_train_batch_size': 4}. \n"
     ]
    }
   ],
   "source": [
    "from typing import List, Dict\n",
    "import transformers\n",
    "\n",
    "# trainer.train()\n",
    "transformers.logging.set_verbosity_error()\n",
    "def compute_objective(metrics: Dict[str, float]) -> List[float]:\n",
    "  return metrics[\"eval_loss\"], metrics[\"eval_accuracy\"]\n",
    "\n",
    "from datetime import datetime\n",
    "\n",
    "best_trials = trainer.hyperparameter_search(\n",
    "  direction=[\"minimize\", \"maximize\"],\n",
    "  backend=\"optuna\",\n",
    "  hp_space=optuna_hp_space,\n",
    "  n_trials=1,\n",
    "  compute_objective=compute_objective,\n",
    "  storage=\"sqlite:///db.sqlite3\",  # Specify the storage URL here.\n",
    "  study_name=f\"GPT2\",\n",
    "  load_if_exists=False\n",
    ")"
   ]
  },
  {
   "cell_type": "code",
   "execution_count": 21,
   "metadata": {},
   "outputs": [
    {
     "name": "stderr",
     "output_type": "stream",
     "text": [
      "Map:   0%|          | 0/280 [00:00<?, ? examples/s]"
     ]
    },
    {
     "name": "stderr",
     "output_type": "stream",
     "text": [
      "Map: 100%|██████████| 280/280 [00:00<00:00, 2373.58 examples/s]\n",
      "Map: 100%|██████████| 70/70 [00:00<00:00, 2762.92 examples/s]\n"
     ]
    },
    {
     "name": "stdout",
     "output_type": "stream",
     "text": [
      "{'train_runtime': 60.6207, 'train_samples_per_second': 13.857, 'train_steps_per_second': 3.464, 'train_loss': 2.395024181547619, 'epoch': 3.0}\n"
     ]
    },
    {
     "data": {
      "text/plain": [
       "TrainOutput(global_step=210, training_loss=2.395024181547619, metrics={'train_runtime': 60.6207, 'train_samples_per_second': 13.857, 'train_steps_per_second': 3.464, 'train_loss': 2.395024181547619, 'epoch': 3.0})"
      ]
     },
     "execution_count": 21,
     "metadata": {},
     "output_type": "execute_result"
    }
   ],
   "source": [
    "ds = clean.drop(['tokens', 'id'], axis=1)\n",
    "\n",
    "SUBSAMPLE = 0.005\n",
    "\n",
    "TRAIN_P, VALID_P, TEST_P = 0.6, 0.2, 0.2\n",
    "LABEL = 'tag'\n",
    "\n",
    "ds = ds.rename(columns={LABEL: 'label'})\n",
    "LABEL = 'label'\n",
    "\n",
    "ds[LABEL], labels_map = pd.factorize(ds[LABEL])\n",
    "\n",
    "assert TRAIN_P + VALID_P + TEST_P == 1\n",
    "\n",
    "dev_ds, test_ds = train_test_split(ds, test_size=TEST_P, random_state=0, stratify=ds[LABEL])\n",
    "  \n",
    "if SUBSAMPLE:\n",
    "  dev_ds, _ = train_test_split(dev_ds, train_size=SUBSAMPLE, random_state=0, stratify=dev_ds[LABEL])\n",
    "  test_ds, _ = train_test_split(test_ds, train_size=SUBSAMPLE, random_state=0, stratify=test_ds[LABEL])\n",
    "\n",
    "\n",
    "dataset_dict = {}\n",
    "dataset_dict['dev'] = Dataset.from_pandas(dev_ds, split = 'Dev').remove_columns(['__index_level_0__'])\n",
    "dataset_dict['test'] = Dataset.from_pandas(test_ds, split = 'Test').remove_columns(['__index_level_0__'])\n",
    "\n",
    "datasets = DatasetDict(dataset_dict)\n",
    "tokenized_datasets = datasets.map(tokenize, batched=True)\n",
    "\n",
    "training_args = TrainingArguments(MODEL_DIR, **best_trials[0].hyperparameters)\n",
    "trainer = Trainer(\n",
    "  model=model_init(None),\n",
    "  args=training_args,\n",
    "  train_dataset=tokenized_datasets['dev'],\n",
    "  eval_dataset=tokenized_datasets['test'],\n",
    "  data_collator=data_collator,\n",
    "  tokenizer=tokenizer,\n",
    "  compute_metrics=AlmostAccuracy()\n",
    ")\n",
    "trainer.train()"
   ]
  },
  {
   "cell_type": "code",
   "execution_count": 22,
   "metadata": {},
   "outputs": [],
   "source": [
    "import numpy as np\n",
    "\n",
    "predictions = trainer.predict(tokenized_datasets[\"test\"])\n",
    "preds = np.argmax(predictions.predictions, axis=-1)"
   ]
  },
  {
   "cell_type": "code",
   "execution_count": 23,
   "metadata": {},
   "outputs": [
    {
     "data": {
      "text/plain": [
       "<sklearn.metrics._plot.confusion_matrix.ConfusionMatrixDisplay at 0x7f0a4e46e090>"
      ]
     },
     "execution_count": 23,
     "metadata": {},
     "output_type": "execute_result"
    },
    {
     "data": {
      "image/png": "[encoded data removed]",
      "text/plain": [
       "<Figure size 640x480 with 2 Axes>"
      ]
     },
     "metadata": {},
     "output_type": "display_data"
    }
   ],
   "source": [
    "from sklearn.metrics import confusion_matrix, ConfusionMatrixDisplay\n",
    "\n",
    "disp = ConfusionMatrixDisplay(confusion_matrix=confusion_matrix(predictions.label_ids, preds),\n",
    "                              display_labels=labels_map)\n",
    "disp.plot()\n"
   ]
  },
  {
   "cell_type": "code",
   "execution_count": 24,
   "metadata": {},
   "outputs": [
    {
     "name": "stdout",
     "output_type": "stream",
     "text": [
      "              precision    recall  f1-score   support\n",
      "\n",
      "         rap       0.20      0.14      0.17        14\n",
      "          rb       0.67      0.14      0.24        14\n",
      "         pop       0.12      0.07      0.09        14\n",
      "        rock       0.17      0.36      0.23        14\n",
      "     country       0.05      0.07      0.06        14\n",
      "\n",
      "    accuracy                           0.16        70\n",
      "   macro avg       0.24      0.16      0.16        70\n",
      "weighted avg       0.24      0.16      0.16        70\n",
      "\n"
     ]
    }
   ],
   "source": [
    "from sklearn.metrics import classification_report\n",
    "\n",
    "print(classification_report(predictions.label_ids, preds, target_names=labels_map))"
   ]
  },
  {
   "cell_type": "code",
   "execution_count": 15,
   "metadata": {},
   "outputs": [],
   "source": [
    "trainer.save_model(MODEL_DIR + '/best')"
   ]
  }
 ],
 "metadata": {
  "kernelspec": {
   "display_name": "Python 3 (ipykernel)",
   "language": "python",
   "name": "python3"
  },
  "language_info": {
   "codemirror_mode": {
    "name": "ipython",
    "version": 3
   },
   "file_extension": ".py",
   "mimetype": "text/x-python",
   "name": "python",
   "nbconvert_exporter": "python",
   "pygments_lexer": "ipython3",
   "version": "3.11.9"
  }
 },
 "nbformat": 4,
 "nbformat_minor": 4
}
