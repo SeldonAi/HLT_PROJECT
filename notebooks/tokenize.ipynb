{
 "cells": [
  {
   "cell_type": "code",
   "execution_count": 1,
   "metadata": {},
   "outputs": [
    {
     "name": "stderr",
     "output_type": "stream",
     "text": [
      "/home/hlt/HLT_PROJECT/.env/lib/python3.11/site-packages/tqdm/auto.py:21: TqdmWarning: IProgress not found. Please update jupyter and ipywidgets. See https://ipywidgets.readthedocs.io/en/stable/user_install.html\n",
      "  from .autonotebook import tqdm as notebook_tqdm\n",
      "[nltk_data] Downloading package punkt to /home/hlt/nltk_data...\n",
      "[nltk_data]   Unzipping tokenizers/punkt.zip.\n"
     ]
    }
   ],
   "source": [
    "import pandas as pd\n",
    "import mapply\n",
    "mapply.init(n_workers=-1, progressbar=True)\n",
    "import nltk\n",
    "nltk.download('punkt')\n",
    "\n",
    "lyrics = pd.read_csv('./../data/lyrics.csv')"
   ]
  },
  {
   "cell_type": "code",
   "execution_count": 2,
   "metadata": {},
   "outputs": [
    {
     "name": "stderr",
     "output_type": "stream",
     "text": [
      "100%|██████████| 40/40 [00:01<00:00, 25.66it/s]\n"
     ]
    }
   ],
   "source": [
    "import re\n",
    "\n",
    "del_sqbrackets = re.compile(r'\\[.*?\\]')\n",
    "\n",
    "lyrics['lyrics_clean'] = lyrics['lyrics'].mapply(lambda x: del_sqbrackets.sub('', x))"
   ]
  },
  {
   "cell_type": "code",
   "execution_count": 3,
   "metadata": {},
   "outputs": [
    {
     "name": "stderr",
     "output_type": "stream",
     "text": [
      "100%|██████████| 40/40 [01:13<00:00,  1.83s/it]\n",
      " 80%|████████  | 32/40 [01:05<00:15,  1.89s/it]"
     ]
    }
   ],
   "source": [
    "lyrics['tokens'] = lyrics['lyrics_clean'].mapply(nltk.word_tokenize)"
   ]
  },
  {
   "cell_type": "code",
   "execution_count": 5,
   "metadata": {},
   "outputs": [],
   "source": [
    "to_save = lyrics.copy()\n",
    "to_save.drop(['lyrics'], axis=1, inplace=True)\n",
    "to_save.to_feather('./../data/lyrics_cleaned.feather')"
   ]
  }
 ],
 "metadata": {
  "kernelspec": {
   "display_name": "Python 3 (ipykernel)",
   "language": "python",
   "name": "python3"
  },
  "language_info": {
   "codemirror_mode": {
    "name": "ipython",
    "version": 3
   },
   "file_extension": ".py",
   "mimetype": "text/x-python",
   "name": "python",
   "nbconvert_exporter": "python",
   "pygments_lexer": "ipython3",
   "version": "3.11.9"
  }
 },
 "nbformat": 4,
 "nbformat_minor": 2
}
