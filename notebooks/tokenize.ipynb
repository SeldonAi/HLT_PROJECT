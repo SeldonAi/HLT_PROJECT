{
 "cells": [
  {
   "cell_type": "code",
   "execution_count": null,
   "metadata": {},
   "outputs": [],
   "source": [
    "import pandas as pd\n",
    "import mapply\n",
    "mapply.init(n_workers=-1, progressbar=True)\n",
    "import nltk\n",
    "nltk.download('punkt')\n",
    "\n",
    "lyrics = pd.read_csv('./../data/lyrics.csv')"
   ]
  },
  {
   "cell_type": "code",
   "execution_count": null,
   "metadata": {},
   "outputs": [],
   "source": [
    "import re\n",
    "\n",
    "del_sqbrackets = re.compile(r'\\[.*?\\]')\n",
    "\n",
    "lyrics['cleaned'] = lyrics['lyrics'].mapply(lambda x: del_sqbrackets.sub('', x))"
   ]
  },
  {
   "cell_type": "code",
   "execution_count": null,
   "metadata": {},
   "outputs": [],
   "source": [
    "lyrics['tokens'] = lyrics['cleaned'].mapply(nltk.word_tokenize)"
   ]
  },
  {
   "cell_type": "code",
   "execution_count": null,
   "metadata": {},
   "outputs": [],
   "source": [
    "to_save = lyrics.copy()\n",
    "to_save.drop(['lyrics', 'cleaned'], axis=1, inplace=True)\n",
    "to_save.to_feather('./../data/lyrics_cleaned.feather')"
   ]
  }
 ],
 "metadata": {
  "kernelspec": {
   "display_name": "Python 3 (ipykernel)",
   "language": "python",
   "name": "python3"
  },
  "language_info": {
   "codemirror_mode": {
    "name": "ipython",
    "version": 3
   },
   "file_extension": ".py",
   "mimetype": "text/x-python",
   "name": "python",
   "nbconvert_exporter": "python",
   "pygments_lexer": "ipython3",
   "version": "3.11.8"
  }
 },
 "nbformat": 4,
 "nbformat_minor": 2
}
