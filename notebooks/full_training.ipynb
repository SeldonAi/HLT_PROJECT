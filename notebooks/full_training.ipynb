{
 "cells": [
  {
   "cell_type": "code",
   "execution_count": 1,
   "metadata": {},
   "outputs": [
    {
     "name": "stderr",
     "output_type": "stream",
     "text": [
      "/home/hlt/HLT_PROJECT/.env/lib/python3.11/site-packages/tqdm/auto.py:21: TqdmWarning: IProgress not found. Please update jupyter and ipywidgets. See https://ipywidgets.readthedocs.io/en/stable/user_install.html\n",
      "  from .autonotebook import tqdm as notebook_tqdm\n"
     ]
    }
   ],
   "source": [
    "import pandas as pd\n",
    "import mapply\n",
    "mapply.init(progressbar=True, max_chunks_per_worker=100)"
   ]
  },
  {
   "cell_type": "code",
   "execution_count": 2,
   "metadata": {},
   "outputs": [],
   "source": [
    "clean = pd.read_feather('../data/lyrics_cleaned.feather')\n",
    "clean = clean[clean['tag'] != 'misc']\n",
    "# clean = clean[clean['tag'] != 'pop']"
   ]
  },
  {
   "cell_type": "code",
   "execution_count": null,
   "metadata": {},
   "outputs": [],
   "source": [
    "from sklearn.model_selection import train_test_split\n",
    "\n",
    "SUBSAMPLE = 0.1\n",
    "\n",
    "ds = clean.drop(['tokens', 'id'], axis=1)\n",
    "\n",
    "TRAIN_P, VALID_P, TEST_P = 0.6, 0.2, 0.2\n",
    "LABEL = 'tag'\n",
    "\n",
    "ds = ds.rename(columns={LABEL: 'label'})\n",
    "LABEL = 'label'\n",
    "\n",
    "ds[LABEL], labels_map = pd.factorize(ds[LABEL])\n",
    "\n",
    "assert TRAIN_P + VALID_P + TEST_P == 1\n",
    "\n",
    "dev_ds, test_ds = train_test_split(ds, test_size=TEST_P, random_state=0, stratify=ds[LABEL])\n",
    "train_ds, valid_ds = train_test_split(dev_ds, test_size=(VALID_P / (TRAIN_P + VALID_P)), random_state=0, stratify=dev_ds[LABEL])\n",
    "  \n",
    "if SUBSAMPLE:\n",
    "  train_ds, _ = train_test_split(train_ds, train_size=SUBSAMPLE, random_state=0, stratify=train_ds[LABEL])\n",
    "  valid_ds, _ = train_test_split(valid_ds, train_size=SUBSAMPLE, random_state=0, stratify=valid_ds[LABEL])\n",
    "  test_ds, _ = train_test_split(test_ds, train_size=SUBSAMPLE, random_state=0, stratify=test_ds[LABEL])"
   ]
  },
  {
   "cell_type": "code",
   "execution_count": null,
   "metadata": {},
   "outputs": [
    {
     "data": {
      "text/plain": [
       "DatasetDict({\n",
       "    train: Dataset({\n",
       "        features: ['title', 'artist', 'label', 'lyrics_clean'],\n",
       "        num_rows: 421\n",
       "    })\n",
       "    valid: Dataset({\n",
       "        features: ['title', 'artist', 'label', 'lyrics_clean'],\n",
       "        num_rows: 140\n",
       "    })\n",
       "    test: Dataset({\n",
       "        features: ['title', 'artist', 'label', 'lyrics_clean'],\n",
       "        num_rows: 140\n",
       "    })\n",
       "})"
      ]
     },
     "execution_count": 4,
     "metadata": {},
     "output_type": "execute_result"
    }
   ],
   "source": [
    "from datasets import Dataset, DatasetDict\n",
    "\n",
    "dataset_dict = {}\n",
    "dataset_dict['train'] = Dataset.from_pandas(train_ds, split = 'Train').remove_columns(['__index_level_0__'])\n",
    "dataset_dict['valid'] = Dataset.from_pandas(valid_ds, split = 'Validation').remove_columns(['__index_level_0__'])\n",
    "dataset_dict['test'] = Dataset.from_pandas(test_ds, split = 'Test').remove_columns(['__index_level_0__'])\n",
    "\n",
    "datasets = DatasetDict(dataset_dict)\n",
    "datasets\n"
   ]
  },
  {
   "cell_type": "code",
   "execution_count": null,
   "metadata": {},
   "outputs": [
    {
     "name": "stderr",
     "output_type": "stream",
     "text": [
      "Map: 100%|██████████| 421/421 [00:00<00:00, 2974.46 examples/s]\n",
      "Map: 100%|██████████| 140/140 [00:00<00:00, 3078.39 examples/s]\n",
      "Map: 100%|██████████| 140/140 [00:00<00:00, 3124.12 examples/s]\n"
     ]
    }
   ],
   "source": [
    "from transformers import AutoTokenizer, DataCollatorWithPadding\n",
    "from datetime import datetime\n",
    "\n",
    "# MODEL = \"FacebookAI/roberta-base\"\n",
    "# MODEL = \"google-bert/bert-base-uncased\"\n",
    "MODEL = \"distilbert/distilroberta-base\"\n",
    "MODEL_DIR = '../NAS/' + str(datetime.now()) + '/' + MODEL.split('/')[-1]\n",
    "tokenizer = AutoTokenizer.from_pretrained(MODEL)\n",
    "\n",
    "def tokenize(row):\n",
    "  return tokenizer(row['lyrics_clean'], truncation=True)\n",
    "\n",
    "data_collator = DataCollatorWithPadding(tokenizer=tokenizer)\n",
    "tokenized_datasets = datasets.map(tokenize, batched=True)"
   ]
  },
  {
   "cell_type": "code",
   "execution_count": null,
   "metadata": {},
   "outputs": [
    {
     "name": "stderr",
     "output_type": "stream",
     "text": [
      "Some weights of RobertaForSequenceClassification were not initialized from the model checkpoint at distilbert/distilroberta-base and are newly initialized: ['classifier.dense.bias', 'classifier.dense.weight', 'classifier.out_proj.bias', 'classifier.out_proj.weight']\n",
      "You should probably TRAIN this model on a down-stream task to be able to use it for predictions and inference.\n"
     ]
    }
   ],
   "source": [
    "from transformers import TrainingArguments, AutoModelForSequenceClassification\n",
    "\n",
    "training_args = TrainingArguments(MODEL_DIR, save_strategy='no')\n",
    "\n",
    "model = AutoModelForSequenceClassification.from_pretrained(MODEL, num_labels = labels_map.shape[0])"
   ]
  },
  {
   "cell_type": "code",
   "execution_count": null,
   "metadata": {},
   "outputs": [],
   "source": [
    "TRAIN_ONLY_HEAD = False\n",
    "\n",
    "if TRAIN_ONLY_HEAD:\n",
    "  for name, param in model.named_parameters():\n",
    "    if 'classifier' not in name:\n",
    "      param.requires_grad = False\n",
    "    else:\n",
    "      param.requires_grad = True\n",
    "      print(name, param.requires_grad)"
   ]
  },
  {
   "cell_type": "code",
   "execution_count": null,
   "metadata": {},
   "outputs": [],
   "source": [
    "def optuna_hp_space(trial):\n",
    "  return {        \n",
    "    \"learning_rate\": trial.suggest_float(\"learning_rate\", 1e-6, 1e-4, log=True),\n",
    "    \"per_device_train_batch_size\": trial.suggest_categorical(\"per_device_train_batch_size\", [1, 4, 16]),  \n",
    "  }"
   ]
  },
  {
   "cell_type": "code",
   "execution_count": null,
   "metadata": {},
   "outputs": [
    {
     "name": "stderr",
     "output_type": "stream",
     "text": [
      "Some weights of RobertaForSequenceClassification were not initialized from the model checkpoint at distilbert/distilroberta-base and are newly initialized: ['classifier.dense.bias', 'classifier.dense.weight', 'classifier.out_proj.bias', 'classifier.out_proj.weight']\n",
      "You should probably TRAIN this model on a down-stream task to be able to use it for predictions and inference.\n"
     ]
    }
   ],
   "source": [
    "import numpy as np\n",
    "\n",
    "class AlmostAccuracy:\n",
    "  def __call__(self, eval_pred):\n",
    "    predictions, labels = eval_pred\n",
    "    preds = np.argmax(predictions, axis=1)\n",
    "    true = np.abs(preds - labels) == 0\n",
    "    return {\"accuracy\": true.astype(np.float32).mean().item()}\n",
    "\n",
    "from transformers import Trainer\n",
    "\n",
    "def model_init(_):\n",
    "    return AutoModelForSequenceClassification.from_pretrained(MODEL, num_labels = labels_map.shape[0])\n",
    "\n",
    "trainer = Trainer(\n",
    "  args=training_args,\n",
    "  train_dataset=tokenized_datasets['train'],\n",
    "  eval_dataset=tokenized_datasets['valid'],\n",
    "  data_collator=data_collator,\n",
    "  tokenizer=tokenizer,\n",
    "  model_init=model_init,\n",
    "  compute_metrics=AlmostAccuracy()\n",
    ")"
   ]
  },
  {
   "cell_type": "code",
   "execution_count": null,
   "metadata": {},
   "outputs": [
    {
     "name": "stderr",
     "output_type": "stream",
     "text": [
      "[I 2024-05-30 11:01:30,505] Using an existing study with name 'hp_search' instead of creating a new one.\n"
     ]
    },
    {
     "data": {
      "text/html": [
       "\n",
       "    <div>\n",
       "      \n",
       "      <progress value='318' max='318' style='width:300px; height:20px; vertical-align: middle;'></progress>\n",
       "      [318/318 00:53, Epoch 3/3]\n",
       "    </div>\n",
       "    <table border=\"1\" class=\"dataframe\">\n",
       "  <thead>\n",
       " <tr style=\"text-align: left;\">\n",
       "      <th>Step</th>\n",
       "      <th>Training Loss</th>\n",
       "    </tr>\n",
       "  </thead>\n",
       "  <tbody>\n",
       "  </tbody>\n",
       "</table><p>"
      ],
      "text/plain": [
       "<IPython.core.display.HTML object>"
      ]
     },
     "metadata": {},
     "output_type": "display_data"
    },
    {
     "data": {
      "text/html": [
       "\n",
       "    <div>\n",
       "      \n",
       "      <progress value='72' max='18' style='width:300px; height:20px; vertical-align: middle;'></progress>\n",
       "      [18/18 02:46]\n",
       "    </div>\n",
       "    "
      ],
      "text/plain": [
       "<IPython.core.display.HTML object>"
      ]
     },
     "metadata": {},
     "output_type": "display_data"
    },
    {
     "name": "stderr",
     "output_type": "stream",
     "text": [
      "[I 2024-05-30 11:02:26,778] Trial 2 finished with values: [1.3980571031570435, 0.4571428596973419] and parameters: {'learning_rate': 3.951573285238236e-06, 'per_device_train_batch_size': 4}. \n"
     ]
    },
    {
     "data": {
      "text/html": [
       "\n",
       "    <div>\n",
       "      \n",
       "      <progress value='81' max='81' style='width:300px; height:20px; vertical-align: middle;'></progress>\n",
       "      [81/81 00:51, Epoch 3/3]\n",
       "    </div>\n",
       "    <table border=\"1\" class=\"dataframe\">\n",
       "  <thead>\n",
       " <tr style=\"text-align: left;\">\n",
       "      <th>Step</th>\n",
       "      <th>Training Loss</th>\n",
       "    </tr>\n",
       "  </thead>\n",
       "  <tbody>\n",
       "  </tbody>\n",
       "</table><p>"
      ],
      "text/plain": [
       "<IPython.core.display.HTML object>"
      ]
     },
     "metadata": {},
     "output_type": "display_data"
    },
    {
     "name": "stderr",
     "output_type": "stream",
     "text": [
      "[I 2024-05-30 11:03:21,430] Trial 3 finished with values: [1.6044014692306519, 0.20714285969734192] and parameters: {'learning_rate': 2.1641460651709705e-06, 'per_device_train_batch_size': 16}. \n"
     ]
    },
    {
     "data": {
      "text/html": [
       "\n",
       "    <div>\n",
       "      \n",
       "      <progress value='81' max='81' style='width:300px; height:20px; vertical-align: middle;'></progress>\n",
       "      [81/81 00:51, Epoch 3/3]\n",
       "    </div>\n",
       "    <table border=\"1\" class=\"dataframe\">\n",
       "  <thead>\n",
       " <tr style=\"text-align: left;\">\n",
       "      <th>Step</th>\n",
       "      <th>Training Loss</th>\n",
       "    </tr>\n",
       "  </thead>\n",
       "  <tbody>\n",
       "  </tbody>\n",
       "</table><p>"
      ],
      "text/plain": [
       "<IPython.core.display.HTML object>"
      ]
     },
     "metadata": {},
     "output_type": "display_data"
    },
    {
     "name": "stderr",
     "output_type": "stream",
     "text": [
      "[I 2024-05-30 11:04:16,250] Trial 4 finished with values: [1.126822590827942, 0.550000011920929] and parameters: {'learning_rate': 2.4158437741894973e-05, 'per_device_train_batch_size': 16}. \n"
     ]
    },
    {
     "data": {
      "text/html": [
       "\n",
       "    <div>\n",
       "      \n",
       "      <progress value='81' max='81' style='width:300px; height:20px; vertical-align: middle;'></progress>\n",
       "      [81/81 00:51, Epoch 3/3]\n",
       "    </div>\n",
       "    <table border=\"1\" class=\"dataframe\">\n",
       "  <thead>\n",
       " <tr style=\"text-align: left;\">\n",
       "      <th>Step</th>\n",
       "      <th>Training Loss</th>\n",
       "    </tr>\n",
       "  </thead>\n",
       "  <tbody>\n",
       "  </tbody>\n",
       "</table><p>"
      ],
      "text/plain": [
       "<IPython.core.display.HTML object>"
      ]
     },
     "metadata": {},
     "output_type": "display_data"
    },
    {
     "name": "stderr",
     "output_type": "stream",
     "text": [
      "[I 2024-05-30 11:05:11,116] Trial 5 finished with values: [1.6056479215621948, 0.20714285969734192] and parameters: {'learning_rate': 1.9014668679999422e-06, 'per_device_train_batch_size': 16}. \n"
     ]
    },
    {
     "data": {
      "text/html": [
       "\n",
       "    <div>\n",
       "      \n",
       "      <progress value='4' max='81' style='width:300px; height:20px; vertical-align: middle;'></progress>\n",
       "      [ 4/81 00:01 < 00:51, 1.51 it/s, Epoch 0.11/3]\n",
       "    </div>\n",
       "    <table border=\"1\" class=\"dataframe\">\n",
       "  <thead>\n",
       " <tr style=\"text-align: left;\">\n",
       "      <th>Step</th>\n",
       "      <th>Training Loss</th>\n",
       "    </tr>\n",
       "  </thead>\n",
       "  <tbody>\n",
       "  </tbody>\n",
       "</table><p>"
      ],
      "text/plain": [
       "<IPython.core.display.HTML object>"
      ]
     },
     "metadata": {},
     "output_type": "display_data"
    }
   ],
   "source": [
    "from typing import List, Dict\n",
    "import transformers\n",
    "\n",
    "# trainer.train()\n",
    "transformers.logging.set_verbosity_error()\n",
    "def compute_objective(metrics: Dict[str, float]) -> List[float]:\n",
    "  return metrics[\"eval_loss\"], metrics[\"eval_accuracy\"]\n",
    "\n",
    "from datetime import datetime\n",
    "\n",
    "best_trials = trainer.hyperparameter_search(\n",
    "  direction=[\"minimize\", \"maximize\"],\n",
    "  backend=\"optuna\",\n",
    "  hp_space=optuna_hp_space,\n",
    "  n_trials=20,\n",
    "  compute_objective=compute_objective,\n",
    "  storage=\"sqlite:///db.sqlite3\",  # Specify the storage URL here.\n",
    "  study_name=f\"hp_search\",\n",
    "  load_if_exists=True\n",
    ")"
   ]
  },
  {
   "cell_type": "code",
   "execution_count": null,
   "metadata": {},
   "outputs": [],
   "source": [
    "print(best_trials[0])\n",
    "print(best_trials)"
   ]
  },
  {
   "cell_type": "code",
   "execution_count": null,
   "metadata": {},
   "outputs": [],
   "source": [
    "import numpy as np\n",
    "\n",
    "predictions = trainer.predict(tokenized_datasets[\"valid\"])\n",
    "preds = np.argmax(predictions.predictions, axis=-1)"
   ]
  },
  {
   "cell_type": "code",
   "execution_count": null,
   "metadata": {},
   "outputs": [],
   "source": [
    "from sklearn.metrics import confusion_matrix, ConfusionMatrixDisplay\n",
    "from matplotlib import pyplot as plt\n",
    "\n",
    "disp = ConfusionMatrixDisplay(confusion_matrix=confusion_matrix(predictions.label_ids, preds),\n",
    "                              display_labels=labels_map)\n",
    "disp.plot()\n"
   ]
  },
  {
   "cell_type": "code",
   "execution_count": null,
   "metadata": {},
   "outputs": [],
   "source": [
    "from sklearn.metrics import classification_report\n",
    "\n",
    "print(classification_report(predictions.label_ids, preds, target_names=labels_map))"
   ]
  },
  {
   "cell_type": "code",
   "execution_count": null,
   "metadata": {},
   "outputs": [],
   "source": [
    "trainer.save_model(MODEL_DIR + '/end')"
   ]
  }
 ],
 "metadata": {
  "kernelspec": {
   "display_name": "Python 3 (ipykernel)",
   "language": "python",
   "name": "python3"
  },
  "language_info": {
   "codemirror_mode": {
    "name": "ipython",
    "version": 3
   },
   "file_extension": ".py",
   "mimetype": "text/x-python",
   "name": "python",
   "nbconvert_exporter": "python",
   "pygments_lexer": "ipython3",
   "version": "3.11.9"
  }
 },
 "nbformat": 4,
 "nbformat_minor": 4
}
