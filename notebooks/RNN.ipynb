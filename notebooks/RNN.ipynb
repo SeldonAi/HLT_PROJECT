{
 "cells": [
  {
   "cell_type": "code",
   "execution_count": 1,
   "metadata": {},
   "outputs": [],
   "source": [
    "GUI = True\n",
    "from tqdm import tqdm as t\n",
    "\n",
    "tqdm = t if GUI else lambda x: x"
   ]
  },
  {
   "cell_type": "code",
   "execution_count": 5,
   "metadata": {},
   "outputs": [],
   "source": [
    "from torchtext.vocab import GloVe, FastText\n",
    "vectors = GloVe(name='6B', dim=300)\n",
    "# vectors = FastText(language='en')\n",
    "\n"
   ]
  },
  {
   "cell_type": "code",
   "execution_count": 6,
   "metadata": {},
   "outputs": [
    {
     "name": "stderr",
     "output_type": "stream",
     "text": [
      "/home/c.gentili3/HLT24/.env/lib/python3.10/site-packages/tqdm/auto.py:21: TqdmWarning: IProgress not found. Please update jupyter and ipywidgets. See https://ipywidgets.readthedocs.io/en/stable/user_install.html\n",
      "  from .autonotebook import tqdm as notebook_tqdm\n"
     ]
    }
   ],
   "source": [
    "import pandas as pd\n",
    "import mapply\n",
    "mapply.init(n_workers=20, progressbar=GUI)\n",
    "\n",
    "clear = pd.read_feather('../data/lyrics_cleaned.feather')\n",
    "clear = clear[clear['tag'] != 'misc']\n",
    "\n",
    "clear['TAG'] = clear['tag']\n",
    "\n",
    "from sklearn.preprocessing import LabelEncoder, OneHotEncoder\n",
    "le = LabelEncoder()\n",
    "oh = OneHotEncoder()\n",
    "clear['genre'] = le.fit_transform(clear['TAG'])\n",
    "clear['genre'] = oh.fit_transform(clear['genre'].values.reshape(-1, 1)).toarray().tolist()\n",
    "\n",
    "ds = clear[['tokens', 'genre']]\n",
    "\n",
    "from sklearn.model_selection import train_test_split\n",
    "\n",
    "dev, test = train_test_split(ds, test_size=0.2, stratify=ds['genre'], random_state=0)\n",
    "train, val = train_test_split(dev, test_size=0.25, stratify=dev['genre'], random_state=0)"
   ]
  },
  {
   "cell_type": "code",
   "execution_count": 7,
   "metadata": {},
   "outputs": [],
   "source": [
    "\n",
    "import torch\n",
    "DEVICE = torch.device('cuda' if torch.cuda.is_available() else 'cpu')\n",
    "\n",
    "MAX_TOKENS = 150\n",
    "\n",
    "from torch.utils.data import DataLoader\n",
    "from torch.nn.utils.rnn import pad_sequence\n",
    "\n",
    "def vectorize(batch):\n",
    "  X, y = list(zip(*batch))\n",
    "  X_tensor = [vectors.get_vecs_by_tokens(x[:MAX_TOKENS].tolist(), lower_case_backup=True) for x in X]\n",
    "  X_tensor = pad_sequence(X_tensor, batch_first=True)\n",
    "  y_tensor = torch.tensor(y)\n",
    "  X_tensor = X_tensor.to(DEVICE)\n",
    "  y_tensor = y_tensor.to(DEVICE)\n",
    "  return X_tensor, y_tensor\n",
    "\n",
    "train_tensor = DataLoader((train.values), batch_size=1024, shuffle=True, collate_fn=vectorize)\n",
    "val_tensor = DataLoader((val.values), batch_size=1024, shuffle=True, collate_fn=vectorize)\n",
    "test_tensor = DataLoader((test.values), batch_size=1024, shuffle=True, collate_fn=vectorize)"
   ]
  },
  {
   "cell_type": "code",
   "execution_count": null,
   "metadata": {},
   "outputs": [
    {
     "name": "stderr",
     "output_type": "stream",
     "text": [
      "/home/c.gentili3/HLT24/.env/lib/python3.10/site-packages/torch/nn/modules/rnn.py:83: UserWarning: dropout option adds dropout after all but last recurrent layer, so non-zero dropout expects num_layers greater than 1, but got dropout=0.5 and num_layers=1\n",
      "  warnings.warn(\"dropout option adds dropout after all but last \"\n",
      "100%|███████████████████████████████████████████████████████████████████████████████████████████████████████████████████████████████████████████████████████████████████| 42/42 [00:25<00:00,  1.63it/s]\n"
     ]
    },
    {
     "name": "stdout",
     "output_type": "stream",
     "text": [
      "Epoch 1/100 - Train Loss: 1.4575 - Train Acc: 0.4459 - Val Loss: 1.3714 - Val Acc: 0.5282\n"
     ]
    },
    {
     "name": "stderr",
     "output_type": "stream",
     "text": [
      "100%|███████████████████████████████████████████████████████████████████████████████████████████████████████████████████████████████████████████████████████████████████| 42/42 [00:19<00:00,  2.12it/s]\n"
     ]
    },
    {
     "name": "stdout",
     "output_type": "stream",
     "text": [
      "Epoch 2/100 - Train Loss: 1.3527 - Train Acc: 0.5424 - Val Loss: 1.3456 - Val Acc: 0.5511\n"
     ]
    },
    {
     "name": "stderr",
     "output_type": "stream",
     "text": [
      "100%|███████████████████████████████████████████████████████████████████████████████████████████████████████████████████████████████████████████████████████████████████| 42/42 [00:19<00:00,  2.14it/s]\n"
     ]
    },
    {
     "name": "stdout",
     "output_type": "stream",
     "text": [
      "Epoch 3/100 - Train Loss: 1.3258 - Train Acc: 0.5737 - Val Loss: 1.3357 - Val Acc: 0.5582\n"
     ]
    },
    {
     "name": "stderr",
     "output_type": "stream",
     "text": [
      " 62%|████████████████████████████████████████████████████████████████████████████████████████████████████▉                                                              | 26/42 [00:12<00:07,  2.09it/s]"
     ]
    }
   ],
   "source": [
    "from torch.nn import GRU, CrossEntropyLoss\n",
    "\n",
    "EMBED_DIM = vectors['unk'].shape[0]\n",
    "N_CLASSES = len(clear.iloc[0]['genre'])\n",
    "\n",
    "class RNN(torch.nn.Module):\n",
    "  def __init__(self, input_size, hidden_size, output_size, gru_layers=1, dropout=0.5):\n",
    "    super(RNN, self).__init__()\n",
    "    self.n_layers = gru_layers\n",
    "    self.hidden_size = hidden_size\n",
    "    self.gru = GRU(input_size, hidden_size, num_layers=self.n_layers, batch_first=True, dropout=dropout)\n",
    "    self.mp = torch.nn.MaxPool1d(MAX_TOKENS)\n",
    "    self.fc = torch.nn.Linear(hidden_size, output_size)\n",
    "    self.softmax = torch.nn.Softmax(dim=1)\n",
    "    \n",
    "  def forward(self, x):\n",
    "    h0 = torch.zeros(self.n_layers, x.size(0), self.hidden_size).to(DEVICE)\n",
    "    output, _ = self.gru(x, h0)\n",
    "    # output = output[:, -1, :]                           # last hidden state\n",
    "    output = self.mp(output.permute(0, 2, 1))[:, :, -1] # max pooling of all hidden states\n",
    "    fc = self.fc(output)\n",
    "    sm = self.softmax(fc)\n",
    "    return sm\n",
    "  \n",
    "model = RNN(EMBED_DIM, 32, N_CLASSES, 1).to(DEVICE)\n",
    "criterion = CrossEntropyLoss()\n",
    "optimizer = torch.optim.Adam(model.parameters(), lr=0.01)\n",
    "\n",
    "from sklearn.metrics import accuracy_score\n",
    "\n",
    "def train_epoch(model, criterion, optimizer, train_tensor):\n",
    "  model.train()\n",
    "  total_loss = 0\n",
    "  total_acc = 0\n",
    "  for X, y in train_tensor:\n",
    "    optimizer.zero_grad()\n",
    "    y_pred = model(X)\n",
    "    loss = criterion(y_pred, y)\n",
    "    loss.backward()\n",
    "    optimizer.step()\n",
    "    total_loss += loss.item()\n",
    "    total_acc += accuracy_score(y.argmax(1).cpu().numpy(), y_pred.argmax(1).cpu().numpy())\n",
    "  return total_loss / len(train_tensor), total_acc / len(train_tensor)\n",
    "\n",
    "def eval_epoch(model, criterion, val_tensor):\n",
    "  model.eval()\n",
    "  total_loss = 0\n",
    "  total_acc = 0\n",
    "  with torch.no_grad():\n",
    "    for X, y in val_tensor:\n",
    "      y_pred = model(X)\n",
    "      loss = criterion(y_pred, y)\n",
    "      total_loss += loss.item()\n",
    "      total_acc += accuracy_score(y.argmax(1).cpu().numpy(), y_pred.argmax(1).cpu().numpy())\n",
    "  return total_loss / len(val_tensor), total_acc / len(val_tensor)\n",
    "\n",
    "EPOCHS = 100\n",
    "\n",
    "for epoch in range(EPOCHS):\n",
    "  train_loss, train_acc = train_epoch(model, criterion, optimizer, tqdm(train_tensor))\n",
    "  val_loss, val_acc = eval_epoch(model, criterion, val_tensor)\n",
    "  print(f'Epoch {epoch + 1}/{EPOCHS} - Train Loss: {train_loss:.4f} - Train Acc: {train_acc:.4f} - Val Loss: {val_loss:.4f} - Val Acc: {val_acc:.4f}')\n",
    "\n",
    "# test_loss, test_acc = eval_epoch(model, criterion, test_tensor)\n",
    "# print(f'Test Loss: {test_loss:.4f} - Test Acc: {test_acc:.4f}')\n"
   ]
  },
  {
   "cell_type": "code",
   "execution_count": null,
   "metadata": {},
   "outputs": [],
   "source": []
  }
 ],
 "metadata": {
  "kernelspec": {
   "display_name": "Python 3 (ipykernel)",
   "language": "python",
   "name": "python3"
  },
  "language_info": {
   "codemirror_mode": {
    "name": "ipython",
    "version": 3
   },
   "file_extension": ".py",
   "mimetype": "text/x-python",
   "name": "python",
   "nbconvert_exporter": "python",
   "pygments_lexer": "ipython3",
   "version": "3.10.12"
  }
 },
 "nbformat": 4,
 "nbformat_minor": 4
}
